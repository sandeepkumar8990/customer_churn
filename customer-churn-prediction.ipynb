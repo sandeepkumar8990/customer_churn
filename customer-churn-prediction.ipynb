{
 "cells": [
  {
   "cell_type": "markdown",
   "metadata": {},
   "source": [
    "CUSTOMER CHURN PREDICTION\n",
    "\n",
    "TARGET VARAIBLE: CHURN(yes/no)\n",
    "\n",
    "PROBLEM: CLASSIFICATION PROBLEM\n",
    "\n",
    "DATA DESCRIPTION\n",
    "\n",
    "CustomerID: ID  of teh customer\n",
    "\n",
    "CustomerName: Name of the customer\n",
    "\n",
    "yearofBirth: year of the customer born\n",
    "\n",
    "monthofBirth: month of the customer born\n",
    "\n",
    "dayofBirth: day of the customer born\n",
    "\n",
    "yearofEntry: year when customer registered in bank\n",
    "\n",
    "monthofEntry: month when customer registered in bank\n",
    "\n",
    "dayofEntry: day when customer registered in bank\n",
    "\n",
    "Gender: sex of the person(male/female)\n",
    "\n",
    "Location: Location of the customer\n",
    "\n",
    "Education: Educational background of the customer\n",
    "\n",
    "MaritalStatus: either the customer married or not\n",
    "\n",
    "Occupation: Occupation of the customer\n",
    "\n",
    "Ownhouse: customer having a ownhouse or not(yes/no)\n",
    "\n",
    "CreditScore: creditscore of teh customer\n",
    "\n",
    "AccountBalance: Account balance of the customer\n",
    "\n",
    "IsCreditCardCustomer: is customer having a credit card are not?(1/0)\n",
    "\n",
    "ActiveMember: is the customer active member are not(0/1)\n",
    "\n",
    "Salary: Salary of teh customer\n",
    "\n",
    "churn: is the customer left from bank or not?(yes/no)"
   ]
  },
  {
   "cell_type": "code",
   "execution_count": 1,
   "metadata": {},
   "outputs": [],
   "source": [
    "#importing libraries\n",
    "import pandas as pd\n",
    "import numpy as np\n",
    "from sklearn.model_selection import train_test_split\n",
    "import matplotlib.pyplot as plt\n",
    "import seaborn as sns\n",
    "%matplotlib inline\n",
    "from datetime import date,datetime,timedelta\n",
    "import time\n",
    "import warnings\n",
    "warnings.filterwarnings(\"ignore\")"
   ]
  },
  {
   "cell_type": "code",
   "execution_count": 2,
   "metadata": {},
   "outputs": [],
   "source": [
    "#reading the train data and test data\n",
    "data=pd.read_csv('../input/Train.csv')\n",
    "test=pd.read_csv('../input/Test.csv')"
   ]
  },
  {
   "cell_type": "code",
   "execution_count": 3,
   "metadata": {},
   "outputs": [
    {
     "data": {
      "text/html": [
       "<div>\n",
       "<style scoped>\n",
       "    .dataframe tbody tr th:only-of-type {\n",
       "        vertical-align: middle;\n",
       "    }\n",
       "\n",
       "    .dataframe tbody tr th {\n",
       "        vertical-align: top;\n",
       "    }\n",
       "\n",
       "    .dataframe thead th {\n",
       "        text-align: right;\n",
       "    }\n",
       "</style>\n",
       "<table border=\"1\" class=\"dataframe\">\n",
       "  <thead>\n",
       "    <tr style=\"text-align: right;\">\n",
       "      <th></th>\n",
       "      <th>CustomerID</th>\n",
       "      <th>CustomerName</th>\n",
       "      <th>yearofBirth</th>\n",
       "      <th>monthofBirth</th>\n",
       "      <th>dayofBirth</th>\n",
       "      <th>yearofEntry</th>\n",
       "      <th>monthofEntry</th>\n",
       "      <th>dayofEntry</th>\n",
       "      <th>Gender</th>\n",
       "      <th>Location</th>\n",
       "      <th>...</th>\n",
       "      <th>MaritalStatus</th>\n",
       "      <th>Occupation</th>\n",
       "      <th>Ownhouse</th>\n",
       "      <th>CreditScore</th>\n",
       "      <th>AccountBalance</th>\n",
       "      <th>NumberOfProducts</th>\n",
       "      <th>IsCreditCardCustomer</th>\n",
       "      <th>ActiveMember</th>\n",
       "      <th>Salary</th>\n",
       "      <th>Churn</th>\n",
       "    </tr>\n",
       "  </thead>\n",
       "  <tbody>\n",
       "    <tr>\n",
       "      <th>0</th>\n",
       "      <td>C5814651</td>\n",
       "      <td>Name_5814651</td>\n",
       "      <td>1980</td>\n",
       "      <td>5</td>\n",
       "      <td>12</td>\n",
       "      <td>2014</td>\n",
       "      <td>11</td>\n",
       "      <td>28</td>\n",
       "      <td>Male</td>\n",
       "      <td>Location11</td>\n",
       "      <td>...</td>\n",
       "      <td>divorced</td>\n",
       "      <td>management</td>\n",
       "      <td>no</td>\n",
       "      <td>716</td>\n",
       "      <td>0.00</td>\n",
       "      <td>2</td>\n",
       "      <td>1</td>\n",
       "      <td>0</td>\n",
       "      <td>189678.70</td>\n",
       "      <td>No</td>\n",
       "    </tr>\n",
       "    <tr>\n",
       "      <th>1</th>\n",
       "      <td>C6465787</td>\n",
       "      <td>Name_6465787</td>\n",
       "      <td>1986</td>\n",
       "      <td>12</td>\n",
       "      <td>28</td>\n",
       "      <td>2011</td>\n",
       "      <td>8</td>\n",
       "      <td>17</td>\n",
       "      <td>Female</td>\n",
       "      <td>Location13</td>\n",
       "      <td>...</td>\n",
       "      <td>divorced</td>\n",
       "      <td>admin.</td>\n",
       "      <td>no</td>\n",
       "      <td>568</td>\n",
       "      <td>169399.60</td>\n",
       "      <td>1</td>\n",
       "      <td>1</td>\n",
       "      <td>0</td>\n",
       "      <td>61936.22</td>\n",
       "      <td>No</td>\n",
       "    </tr>\n",
       "    <tr>\n",
       "      <th>2</th>\n",
       "      <td>C3824349</td>\n",
       "      <td>Name_3824349</td>\n",
       "      <td>1999</td>\n",
       "      <td>11</td>\n",
       "      <td>23</td>\n",
       "      <td>2013</td>\n",
       "      <td>12</td>\n",
       "      <td>9</td>\n",
       "      <td>Male</td>\n",
       "      <td>Location13</td>\n",
       "      <td>...</td>\n",
       "      <td>married</td>\n",
       "      <td>unknown</td>\n",
       "      <td>unknown</td>\n",
       "      <td>739</td>\n",
       "      <td>89750.21</td>\n",
       "      <td>1</td>\n",
       "      <td>1</td>\n",
       "      <td>0</td>\n",
       "      <td>193008.52</td>\n",
       "      <td>No</td>\n",
       "    </tr>\n",
       "    <tr>\n",
       "      <th>3</th>\n",
       "      <td>C8431888</td>\n",
       "      <td>Name_8431888</td>\n",
       "      <td>1969</td>\n",
       "      <td>4</td>\n",
       "      <td>6</td>\n",
       "      <td>2015</td>\n",
       "      <td>12</td>\n",
       "      <td>12</td>\n",
       "      <td>Female</td>\n",
       "      <td>Location11</td>\n",
       "      <td>...</td>\n",
       "      <td>married</td>\n",
       "      <td>admin.</td>\n",
       "      <td>yes</td>\n",
       "      <td>678</td>\n",
       "      <td>204510.94</td>\n",
       "      <td>1</td>\n",
       "      <td>0</td>\n",
       "      <td>1</td>\n",
       "      <td>738.88</td>\n",
       "      <td>Yes</td>\n",
       "    </tr>\n",
       "    <tr>\n",
       "      <th>4</th>\n",
       "      <td>C2944860</td>\n",
       "      <td>Name_2944860</td>\n",
       "      <td>1993</td>\n",
       "      <td>6</td>\n",
       "      <td>15</td>\n",
       "      <td>2012</td>\n",
       "      <td>10</td>\n",
       "      <td>10</td>\n",
       "      <td>Male</td>\n",
       "      <td>Location13</td>\n",
       "      <td>...</td>\n",
       "      <td>single</td>\n",
       "      <td>management</td>\n",
       "      <td>no</td>\n",
       "      <td>670</td>\n",
       "      <td>0.00</td>\n",
       "      <td>2</td>\n",
       "      <td>1</td>\n",
       "      <td>1</td>\n",
       "      <td>78358.94</td>\n",
       "      <td>No</td>\n",
       "    </tr>\n",
       "  </tbody>\n",
       "</table>\n",
       "<p>5 rows × 21 columns</p>\n",
       "</div>"
      ],
      "text/plain": [
       "  CustomerID  CustomerName  yearofBirth  monthofBirth  dayofBirth  \\\n",
       "0   C5814651  Name_5814651         1980             5          12   \n",
       "1   C6465787  Name_6465787         1986            12          28   \n",
       "2   C3824349  Name_3824349         1999            11          23   \n",
       "3   C8431888  Name_8431888         1969             4           6   \n",
       "4   C2944860  Name_2944860         1993             6          15   \n",
       "\n",
       "   yearofEntry  monthofEntry  dayofEntry  Gender    Location  ...  \\\n",
       "0         2014            11          28    Male  Location11  ...   \n",
       "1         2011             8          17  Female  Location13  ...   \n",
       "2         2013            12           9    Male  Location13  ...   \n",
       "3         2015            12          12  Female  Location11  ...   \n",
       "4         2012            10          10    Male  Location13  ...   \n",
       "\n",
       "  MaritalStatus  Occupation Ownhouse CreditScore  AccountBalance  \\\n",
       "0      divorced  management       no         716            0.00   \n",
       "1      divorced      admin.       no         568       169399.60   \n",
       "2       married     unknown  unknown         739        89750.21   \n",
       "3       married      admin.      yes         678       204510.94   \n",
       "4        single  management       no         670            0.00   \n",
       "\n",
       "   NumberOfProducts  IsCreditCardCustomer  ActiveMember     Salary  Churn  \n",
       "0                 2                     1             0  189678.70     No  \n",
       "1                 1                     1             0   61936.22     No  \n",
       "2                 1                     1             0  193008.52     No  \n",
       "3                 1                     0             1     738.88    Yes  \n",
       "4                 2                     1             1   78358.94     No  \n",
       "\n",
       "[5 rows x 21 columns]"
      ]
     },
     "execution_count": 3,
     "metadata": {},
     "output_type": "execute_result"
    }
   ],
   "source": [
    "data.head()"
   ]
  },
  {
   "cell_type": "code",
   "execution_count": 4,
   "metadata": {},
   "outputs": [
    {
     "data": {
      "text/plain": [
       "(7360, 21)"
      ]
     },
     "execution_count": 4,
     "metadata": {},
     "output_type": "execute_result"
    }
   ],
   "source": [
    "#checking shape of the data\n",
    "data.shape"
   ]
  },
  {
   "cell_type": "code",
   "execution_count": 5,
   "metadata": {},
   "outputs": [
    {
     "data": {
      "text/plain": [
       "CustomerID              0\n",
       "CustomerName            0\n",
       "yearofBirth             0\n",
       "monthofBirth            0\n",
       "dayofBirth              0\n",
       "yearofEntry             0\n",
       "monthofEntry            0\n",
       "dayofEntry              0\n",
       "Gender                  0\n",
       "Location                0\n",
       "Education               0\n",
       "MaritalStatus           0\n",
       "Occupation              0\n",
       "Ownhouse                0\n",
       "CreditScore             0\n",
       "AccountBalance          0\n",
       "NumberOfProducts        0\n",
       "IsCreditCardCustomer    0\n",
       "ActiveMember            0\n",
       "Salary                  0\n",
       "Churn                   0\n",
       "dtype: int64"
      ]
     },
     "execution_count": 5,
     "metadata": {},
     "output_type": "execute_result"
    }
   ],
   "source": [
    "#checking NA's  values \n",
    "data.isna().sum()"
   ]
  },
  {
   "cell_type": "code",
   "execution_count": 6,
   "metadata": {},
   "outputs": [
    {
     "data": {
      "text/html": [
       "<div>\n",
       "<style scoped>\n",
       "    .dataframe tbody tr th:only-of-type {\n",
       "        vertical-align: middle;\n",
       "    }\n",
       "\n",
       "    .dataframe tbody tr th {\n",
       "        vertical-align: top;\n",
       "    }\n",
       "\n",
       "    .dataframe thead th {\n",
       "        text-align: right;\n",
       "    }\n",
       "</style>\n",
       "<table border=\"1\" class=\"dataframe\">\n",
       "  <thead>\n",
       "    <tr style=\"text-align: right;\">\n",
       "      <th></th>\n",
       "      <th>CustomerID</th>\n",
       "      <th>CustomerName</th>\n",
       "      <th>yearofBirth</th>\n",
       "      <th>monthofBirth</th>\n",
       "      <th>dayofBirth</th>\n",
       "      <th>yearofEntry</th>\n",
       "      <th>monthofEntry</th>\n",
       "      <th>dayofEntry</th>\n",
       "      <th>Gender</th>\n",
       "      <th>Location</th>\n",
       "      <th>...</th>\n",
       "      <th>MaritalStatus</th>\n",
       "      <th>Occupation</th>\n",
       "      <th>Ownhouse</th>\n",
       "      <th>CreditScore</th>\n",
       "      <th>AccountBalance</th>\n",
       "      <th>NumberOfProducts</th>\n",
       "      <th>IsCreditCardCustomer</th>\n",
       "      <th>ActiveMember</th>\n",
       "      <th>Salary</th>\n",
       "      <th>Churn</th>\n",
       "    </tr>\n",
       "  </thead>\n",
       "  <tbody>\n",
       "    <tr>\n",
       "      <th>count</th>\n",
       "      <td>7360</td>\n",
       "      <td>7360</td>\n",
       "      <td>7360.000000</td>\n",
       "      <td>7360.000000</td>\n",
       "      <td>7360.000000</td>\n",
       "      <td>7360.000000</td>\n",
       "      <td>7360.000000</td>\n",
       "      <td>7360.000000</td>\n",
       "      <td>7360</td>\n",
       "      <td>7360</td>\n",
       "      <td>...</td>\n",
       "      <td>7360</td>\n",
       "      <td>7360</td>\n",
       "      <td>7360</td>\n",
       "      <td>7360.000000</td>\n",
       "      <td>7360.000000</td>\n",
       "      <td>7360.000000</td>\n",
       "      <td>7360.000000</td>\n",
       "      <td>7360.000000</td>\n",
       "      <td>7360.000000</td>\n",
       "      <td>7360</td>\n",
       "    </tr>\n",
       "    <tr>\n",
       "      <th>unique</th>\n",
       "      <td>7360</td>\n",
       "      <td>7360</td>\n",
       "      <td>NaN</td>\n",
       "      <td>NaN</td>\n",
       "      <td>NaN</td>\n",
       "      <td>NaN</td>\n",
       "      <td>NaN</td>\n",
       "      <td>NaN</td>\n",
       "      <td>2</td>\n",
       "      <td>3</td>\n",
       "      <td>...</td>\n",
       "      <td>3</td>\n",
       "      <td>7</td>\n",
       "      <td>3</td>\n",
       "      <td>NaN</td>\n",
       "      <td>NaN</td>\n",
       "      <td>NaN</td>\n",
       "      <td>NaN</td>\n",
       "      <td>NaN</td>\n",
       "      <td>NaN</td>\n",
       "      <td>2</td>\n",
       "    </tr>\n",
       "    <tr>\n",
       "      <th>top</th>\n",
       "      <td>C2719825</td>\n",
       "      <td>Name_5539629</td>\n",
       "      <td>NaN</td>\n",
       "      <td>NaN</td>\n",
       "      <td>NaN</td>\n",
       "      <td>NaN</td>\n",
       "      <td>NaN</td>\n",
       "      <td>NaN</td>\n",
       "      <td>Male</td>\n",
       "      <td>Location11</td>\n",
       "      <td>...</td>\n",
       "      <td>single</td>\n",
       "      <td>admin.</td>\n",
       "      <td>no</td>\n",
       "      <td>NaN</td>\n",
       "      <td>NaN</td>\n",
       "      <td>NaN</td>\n",
       "      <td>NaN</td>\n",
       "      <td>NaN</td>\n",
       "      <td>NaN</td>\n",
       "      <td>No</td>\n",
       "    </tr>\n",
       "    <tr>\n",
       "      <th>freq</th>\n",
       "      <td>1</td>\n",
       "      <td>1</td>\n",
       "      <td>NaN</td>\n",
       "      <td>NaN</td>\n",
       "      <td>NaN</td>\n",
       "      <td>NaN</td>\n",
       "      <td>NaN</td>\n",
       "      <td>NaN</td>\n",
       "      <td>3994</td>\n",
       "      <td>3693</td>\n",
       "      <td>...</td>\n",
       "      <td>2559</td>\n",
       "      <td>3207</td>\n",
       "      <td>3684</td>\n",
       "      <td>NaN</td>\n",
       "      <td>NaN</td>\n",
       "      <td>NaN</td>\n",
       "      <td>NaN</td>\n",
       "      <td>NaN</td>\n",
       "      <td>NaN</td>\n",
       "      <td>5868</td>\n",
       "    </tr>\n",
       "    <tr>\n",
       "      <th>mean</th>\n",
       "      <td>NaN</td>\n",
       "      <td>NaN</td>\n",
       "      <td>1979.058832</td>\n",
       "      <td>6.540897</td>\n",
       "      <td>14.607201</td>\n",
       "      <td>2012.984783</td>\n",
       "      <td>6.477174</td>\n",
       "      <td>14.505571</td>\n",
       "      <td>NaN</td>\n",
       "      <td>NaN</td>\n",
       "      <td>...</td>\n",
       "      <td>NaN</td>\n",
       "      <td>NaN</td>\n",
       "      <td>NaN</td>\n",
       "      <td>650.648777</td>\n",
       "      <td>76601.068011</td>\n",
       "      <td>1.524592</td>\n",
       "      <td>0.704212</td>\n",
       "      <td>0.510462</td>\n",
       "      <td>99967.894062</td>\n",
       "      <td>NaN</td>\n",
       "    </tr>\n",
       "    <tr>\n",
       "      <th>std</th>\n",
       "      <td>NaN</td>\n",
       "      <td>NaN</td>\n",
       "      <td>10.464673</td>\n",
       "      <td>3.432135</td>\n",
       "      <td>8.068158</td>\n",
       "      <td>2.898385</td>\n",
       "      <td>3.433252</td>\n",
       "      <td>8.020220</td>\n",
       "      <td>NaN</td>\n",
       "      <td>NaN</td>\n",
       "      <td>...</td>\n",
       "      <td>NaN</td>\n",
       "      <td>NaN</td>\n",
       "      <td>NaN</td>\n",
       "      <td>96.769231</td>\n",
       "      <td>62442.214871</td>\n",
       "      <td>0.577415</td>\n",
       "      <td>0.456427</td>\n",
       "      <td>0.499924</td>\n",
       "      <td>57342.390262</td>\n",
       "      <td>NaN</td>\n",
       "    </tr>\n",
       "    <tr>\n",
       "      <th>min</th>\n",
       "      <td>NaN</td>\n",
       "      <td>NaN</td>\n",
       "      <td>1926.000000</td>\n",
       "      <td>1.000000</td>\n",
       "      <td>1.000000</td>\n",
       "      <td>2008.000000</td>\n",
       "      <td>1.000000</td>\n",
       "      <td>1.000000</td>\n",
       "      <td>NaN</td>\n",
       "      <td>NaN</td>\n",
       "      <td>...</td>\n",
       "      <td>NaN</td>\n",
       "      <td>NaN</td>\n",
       "      <td>NaN</td>\n",
       "      <td>350.000000</td>\n",
       "      <td>0.000000</td>\n",
       "      <td>1.000000</td>\n",
       "      <td>0.000000</td>\n",
       "      <td>0.000000</td>\n",
       "      <td>11.580000</td>\n",
       "      <td>NaN</td>\n",
       "    </tr>\n",
       "    <tr>\n",
       "      <th>25%</th>\n",
       "      <td>NaN</td>\n",
       "      <td>NaN</td>\n",
       "      <td>1974.000000</td>\n",
       "      <td>4.000000</td>\n",
       "      <td>8.000000</td>\n",
       "      <td>2010.000000</td>\n",
       "      <td>4.000000</td>\n",
       "      <td>8.000000</td>\n",
       "      <td>NaN</td>\n",
       "      <td>NaN</td>\n",
       "      <td>...</td>\n",
       "      <td>NaN</td>\n",
       "      <td>NaN</td>\n",
       "      <td>NaN</td>\n",
       "      <td>584.000000</td>\n",
       "      <td>0.000000</td>\n",
       "      <td>1.000000</td>\n",
       "      <td>0.000000</td>\n",
       "      <td>0.000000</td>\n",
       "      <td>51361.780000</td>\n",
       "      <td>NaN</td>\n",
       "    </tr>\n",
       "    <tr>\n",
       "      <th>50%</th>\n",
       "      <td>NaN</td>\n",
       "      <td>NaN</td>\n",
       "      <td>1981.000000</td>\n",
       "      <td>7.000000</td>\n",
       "      <td>15.000000</td>\n",
       "      <td>2013.000000</td>\n",
       "      <td>6.000000</td>\n",
       "      <td>15.000000</td>\n",
       "      <td>NaN</td>\n",
       "      <td>NaN</td>\n",
       "      <td>...</td>\n",
       "      <td>NaN</td>\n",
       "      <td>NaN</td>\n",
       "      <td>NaN</td>\n",
       "      <td>652.000000</td>\n",
       "      <td>96913.725000</td>\n",
       "      <td>1.000000</td>\n",
       "      <td>1.000000</td>\n",
       "      <td>1.000000</td>\n",
       "      <td>99446.940000</td>\n",
       "      <td>NaN</td>\n",
       "    </tr>\n",
       "    <tr>\n",
       "      <th>75%</th>\n",
       "      <td>NaN</td>\n",
       "      <td>NaN</td>\n",
       "      <td>1986.000000</td>\n",
       "      <td>10.000000</td>\n",
       "      <td>22.000000</td>\n",
       "      <td>2015.250000</td>\n",
       "      <td>9.000000</td>\n",
       "      <td>21.000000</td>\n",
       "      <td>NaN</td>\n",
       "      <td>NaN</td>\n",
       "      <td>...</td>\n",
       "      <td>NaN</td>\n",
       "      <td>NaN</td>\n",
       "      <td>NaN</td>\n",
       "      <td>718.000000</td>\n",
       "      <td>127660.767500</td>\n",
       "      <td>2.000000</td>\n",
       "      <td>1.000000</td>\n",
       "      <td>1.000000</td>\n",
       "      <td>149068.075000</td>\n",
       "      <td>NaN</td>\n",
       "    </tr>\n",
       "    <tr>\n",
       "      <th>max</th>\n",
       "      <td>NaN</td>\n",
       "      <td>NaN</td>\n",
       "      <td>2000.000000</td>\n",
       "      <td>12.000000</td>\n",
       "      <td>28.000000</td>\n",
       "      <td>2018.000000</td>\n",
       "      <td>12.000000</td>\n",
       "      <td>28.000000</td>\n",
       "      <td>NaN</td>\n",
       "      <td>NaN</td>\n",
       "      <td>...</td>\n",
       "      <td>NaN</td>\n",
       "      <td>NaN</td>\n",
       "      <td>NaN</td>\n",
       "      <td>850.000000</td>\n",
       "      <td>250898.090000</td>\n",
       "      <td>4.000000</td>\n",
       "      <td>1.000000</td>\n",
       "      <td>1.000000</td>\n",
       "      <td>199992.480000</td>\n",
       "      <td>NaN</td>\n",
       "    </tr>\n",
       "  </tbody>\n",
       "</table>\n",
       "<p>11 rows × 21 columns</p>\n",
       "</div>"
      ],
      "text/plain": [
       "       CustomerID  CustomerName  yearofBirth  monthofBirth   dayofBirth  \\\n",
       "count        7360          7360  7360.000000   7360.000000  7360.000000   \n",
       "unique       7360          7360          NaN           NaN          NaN   \n",
       "top      C2719825  Name_5539629          NaN           NaN          NaN   \n",
       "freq            1             1          NaN           NaN          NaN   \n",
       "mean          NaN           NaN  1979.058832      6.540897    14.607201   \n",
       "std           NaN           NaN    10.464673      3.432135     8.068158   \n",
       "min           NaN           NaN  1926.000000      1.000000     1.000000   \n",
       "25%           NaN           NaN  1974.000000      4.000000     8.000000   \n",
       "50%           NaN           NaN  1981.000000      7.000000    15.000000   \n",
       "75%           NaN           NaN  1986.000000     10.000000    22.000000   \n",
       "max           NaN           NaN  2000.000000     12.000000    28.000000   \n",
       "\n",
       "        yearofEntry  monthofEntry   dayofEntry Gender    Location  ...  \\\n",
       "count   7360.000000   7360.000000  7360.000000   7360        7360  ...   \n",
       "unique          NaN           NaN          NaN      2           3  ...   \n",
       "top             NaN           NaN          NaN   Male  Location11  ...   \n",
       "freq            NaN           NaN          NaN   3994        3693  ...   \n",
       "mean    2012.984783      6.477174    14.505571    NaN         NaN  ...   \n",
       "std        2.898385      3.433252     8.020220    NaN         NaN  ...   \n",
       "min     2008.000000      1.000000     1.000000    NaN         NaN  ...   \n",
       "25%     2010.000000      4.000000     8.000000    NaN         NaN  ...   \n",
       "50%     2013.000000      6.000000    15.000000    NaN         NaN  ...   \n",
       "75%     2015.250000      9.000000    21.000000    NaN         NaN  ...   \n",
       "max     2018.000000     12.000000    28.000000    NaN         NaN  ...   \n",
       "\n",
       "       MaritalStatus Occupation Ownhouse  CreditScore  AccountBalance  \\\n",
       "count           7360       7360     7360  7360.000000     7360.000000   \n",
       "unique             3          7        3          NaN             NaN   \n",
       "top           single     admin.       no          NaN             NaN   \n",
       "freq            2559       3207     3684          NaN             NaN   \n",
       "mean             NaN        NaN      NaN   650.648777    76601.068011   \n",
       "std              NaN        NaN      NaN    96.769231    62442.214871   \n",
       "min              NaN        NaN      NaN   350.000000        0.000000   \n",
       "25%              NaN        NaN      NaN   584.000000        0.000000   \n",
       "50%              NaN        NaN      NaN   652.000000    96913.725000   \n",
       "75%              NaN        NaN      NaN   718.000000   127660.767500   \n",
       "max              NaN        NaN      NaN   850.000000   250898.090000   \n",
       "\n",
       "        NumberOfProducts  IsCreditCardCustomer  ActiveMember         Salary  \\\n",
       "count        7360.000000           7360.000000   7360.000000    7360.000000   \n",
       "unique               NaN                   NaN           NaN            NaN   \n",
       "top                  NaN                   NaN           NaN            NaN   \n",
       "freq                 NaN                   NaN           NaN            NaN   \n",
       "mean            1.524592              0.704212      0.510462   99967.894062   \n",
       "std             0.577415              0.456427      0.499924   57342.390262   \n",
       "min             1.000000              0.000000      0.000000      11.580000   \n",
       "25%             1.000000              0.000000      0.000000   51361.780000   \n",
       "50%             1.000000              1.000000      1.000000   99446.940000   \n",
       "75%             2.000000              1.000000      1.000000  149068.075000   \n",
       "max             4.000000              1.000000      1.000000  199992.480000   \n",
       "\n",
       "        Churn  \n",
       "count    7360  \n",
       "unique      2  \n",
       "top        No  \n",
       "freq     5868  \n",
       "mean      NaN  \n",
       "std       NaN  \n",
       "min       NaN  \n",
       "25%       NaN  \n",
       "50%       NaN  \n",
       "75%       NaN  \n",
       "max       NaN  \n",
       "\n",
       "[11 rows x 21 columns]"
      ]
     },
     "execution_count": 6,
     "metadata": {},
     "output_type": "execute_result"
    }
   ],
   "source": [
    "#checking statistics for every column\n",
    "data.describe(include='all')\n"
   ]
  },
  {
   "cell_type": "code",
   "execution_count": 7,
   "metadata": {},
   "outputs": [
    {
     "data": {
      "text/plain": [
       "CustomerID               object\n",
       "CustomerName             object\n",
       "yearofBirth               int64\n",
       "monthofBirth              int64\n",
       "dayofBirth                int64\n",
       "yearofEntry               int64\n",
       "monthofEntry              int64\n",
       "dayofEntry                int64\n",
       "Gender                   object\n",
       "Location                 object\n",
       "Education                object\n",
       "MaritalStatus            object\n",
       "Occupation               object\n",
       "Ownhouse                 object\n",
       "CreditScore               int64\n",
       "AccountBalance          float64\n",
       "NumberOfProducts          int64\n",
       "IsCreditCardCustomer      int64\n",
       "ActiveMember              int64\n",
       "Salary                  float64\n",
       "Churn                    object\n",
       "dtype: object"
      ]
     },
     "execution_count": 7,
     "metadata": {},
     "output_type": "execute_result"
    }
   ],
   "source": [
    "#checking data types \n",
    "data.dtypes"
   ]
  },
  {
   "cell_type": "code",
   "execution_count": 8,
   "metadata": {},
   "outputs": [],
   "source": [
    "#droping the unwanted columns\n",
    "data.drop('CustomerID',axis=1,inplace=True)\n",
    "data.drop('CustomerName',axis=1,inplace=True)"
   ]
  },
  {
   "cell_type": "code",
   "execution_count": 9,
   "metadata": {},
   "outputs": [],
   "source": [
    "#creating a new Dateof birth column from yearofbirth,monthofbirth,dayoofbirth\n",
    "data['Dateofbirth'] = pd.to_datetime(\n",
    "data[['yearofBirth', 'monthofBirth', 'dayofBirth']].astype(str).agg('-'.join, axis=1))\n",
    "\n",
    "#creating a year column from dateofbirth\n",
    "data['year']=data['Dateofbirth'].dt.year\n",
    "\n",
    "#adding a new column AGE from present year and year of birth\n",
    "data['age']=2019-data['year']\n"
   ]
  },
  {
   "cell_type": "code",
   "execution_count": 10,
   "metadata": {},
   "outputs": [
    {
     "data": {
      "text/plain": [
       "Text(0.5, 1.0, 'distribution of Levels in churn ')"
      ]
     },
     "execution_count": 10,
     "metadata": {},
     "output_type": "execute_result"
    },
    {
     "data": {
      "image/png": "[encoded data removed]",
      "text/plain": [
       "<Figure size 432x288 with 1 Axes>"
      ]
     },
     "metadata": {
      "needs_background": "light"
     },
     "output_type": "display_data"
    }
   ],
   "source": [
    "sns.countplot(data.Churn)\n",
    "plt.title(\"distribution of Levels in churn \")"
   ]
  },
  {
   "cell_type": "code",
   "execution_count": 11,
   "metadata": {},
   "outputs": [
    {
     "data": {
      "text/plain": [
       "Text(0.5, 1.0, 'No of categories in occupation')"
      ]
     },
     "execution_count": 11,
     "metadata": {},
     "output_type": "execute_result"
    },
    {
     "data": {
      "image/png": "[encoded data removed]",
      "text/plain": [
       "<Figure size 432x288 with 1 Axes>"
      ]
     },
     "metadata": {
      "needs_background": "light"
     },
     "output_type": "display_data"
    }
   ],
   "source": [
    "sns.countplot(data.Occupation)\n",
    "plt.xticks(rotation=45)\n",
    "plt.title('No of categories in occupation')"
   ]
  },
  {
   "cell_type": "code",
   "execution_count": 12,
   "metadata": {},
   "outputs": [
    {
     "data": {
      "text/plain": [
       "Text(0.5, 1.0, 'distribution for account balance')"
      ]
     },
     "execution_count": 12,
     "metadata": {},
     "output_type": "execute_result"
    },
    {
     "data": {
      "image/png": "[encoded data removed]",
      "text/plain": [
       "<Figure size 432x288 with 1 Axes>"
      ]
     },
     "metadata": {
      "needs_background": "light"
     },
     "output_type": "display_data"
    }
   ],
   "source": [
    "#histogram for account balance\n",
    "plt.hist(data.AccountBalance,bins=10)\n",
    "plt.xlabel(\"account balance\")\n",
    "plt.ylabel(\"frequency\")\n",
    "plt.title(\"distribution for account balance\")\n"
   ]
  },
  {
   "cell_type": "code",
   "execution_count": 13,
   "metadata": {},
   "outputs": [
    {
     "data": {
      "text/plain": [
       "Text(0.5, 1.0, 'churn vs CreditScore')"
      ]
     },
     "execution_count": 13,
     "metadata": {},
     "output_type": "execute_result"
    },
    {
     "data": {
      "image/png": "[encoded data removed]",
      "text/plain": [
       "<Figure size 432x288 with 1 Axes>"
      ]
     },
     "metadata": {
      "needs_background": "light"
     },
     "output_type": "display_data"
    }
   ],
   "source": [
    "sns.boxplot(x='Churn',y='CreditScore',data=data)\n",
    "plt.title(\"churn vs CreditScore\")"
   ]
  },
  {
   "cell_type": "code",
   "execution_count": 14,
   "metadata": {},
   "outputs": [
    {
     "data": {
      "text/plain": [
       "<matplotlib.legend.Legend at 0x7fdec385b470>"
      ]
     },
     "execution_count": 14,
     "metadata": {},
     "output_type": "execute_result"
    },
    {
     "data": {
      "image/png": "[encoded data removed]",
      "text/plain": [
       "<Figure size 432x288 with 1 Axes>"
      ]
     },
     "metadata": {
      "needs_background": "light"
     },
     "output_type": "display_data"
    }
   ],
   "source": [
    "sns.countplot(x='Churn',hue='Occupation',data=data)\n",
    "plt.legend(bbox_to_anchor=(1.05, 1), borderaxespad=0.5)"
   ]
  },
  {
   "cell_type": "code",
   "execution_count": 15,
   "metadata": {},
   "outputs": [
    {
     "data": {
      "text/plain": [
       "Text(0.5, 1.0, 'churn vs Salary')"
      ]
     },
     "execution_count": 15,
     "metadata": {},
     "output_type": "execute_result"
    },
    {
     "data": {
      "image/png": "[encoded data removed]",
      "text/plain": [
       "<Figure size 432x288 with 1 Axes>"
      ]
     },
     "metadata": {
      "needs_background": "light"
     },
     "output_type": "display_data"
    }
   ],
   "source": [
    "sns.boxplot(x='Churn',y='Salary',data=data)\n",
    "plt.title(\"churn vs Salary\")"
   ]
  },
  {
   "cell_type": "code",
   "execution_count": 16,
   "metadata": {},
   "outputs": [
    {
     "data": {
      "text/plain": [
       "Text(0.5, 1.0, 'churn vs age')"
      ]
     },
     "execution_count": 16,
     "metadata": {},
     "output_type": "execute_result"
    },
    {
     "data": {
      "image/png": "[encoded data removed]",
      "text/plain": [
       "<Figure size 432x288 with 1 Axes>"
      ]
     },
     "metadata": {
      "needs_background": "light"
     },
     "output_type": "display_data"
    }
   ],
   "source": [
    "#churn vs age,here we can observe that the churn rate is more between 40-50 age \n",
    "sns.boxplot(x=data.Churn,y=data.age)\n",
    "plt.title(\"churn vs age\")"
   ]
  },
  {
   "cell_type": "code",
   "execution_count": 17,
   "metadata": {},
   "outputs": [
    {
     "data": {
      "text/plain": [
       "<matplotlib.legend.Legend at 0x7fdec3727978>"
      ]
     },
     "execution_count": 17,
     "metadata": {},
     "output_type": "execute_result"
    },
    {
     "data": {
      "image/png": "[encoded data removed]",
      "text/plain": [
       "<Figure size 432x288 with 1 Axes>"
      ]
     },
     "metadata": {
      "needs_background": "light"
     },
     "output_type": "display_data"
    }
   ],
   "source": [
    "sns.countplot(x='Churn',hue='Gender',data=data)\n",
    "plt.legend(bbox_to_anchor=(1.05, 1), borderaxespad=0.5)"
   ]
  },
  {
   "cell_type": "code",
   "execution_count": 18,
   "metadata": {},
   "outputs": [],
   "source": [
    "#droping year column\n",
    "data.drop('year',axis=1,inplace=True)"
   ]
  },
  {
   "cell_type": "code",
   "execution_count": 19,
   "metadata": {},
   "outputs": [],
   "source": [
    "#creating lists of categorical and numerical columns\n",
    "cat_cols=['Gender','Location','Education','MaritalStatus','Occupation','Ownhouse']\n",
    "num_cols=['yearofBirth','monthofBirth','dayofBirth','yearofEntry','monthofEntry','dayofEntry','CreditScore','AccountBalance','NumberOfProducts','IsCreditCardCustomer','ActiveMember','Salary']\n"
   ]
  },
  {
   "cell_type": "code",
   "execution_count": 20,
   "metadata": {},
   "outputs": [],
   "source": [
    "#separating the independent and dependent column\n",
    "y=data.Churn\n",
    "X=data\n",
    "X.drop('Churn',axis=1,inplace=True)"
   ]
  },
  {
   "cell_type": "code",
   "execution_count": 21,
   "metadata": {},
   "outputs": [
    {
     "name": "stdout",
     "output_type": "stream",
     "text": [
      "(5152, 20)\n",
      "(2208, 20)\n",
      "(5152,)\n",
      "(2208,)\n"
     ]
    }
   ],
   "source": [
    "#spliting the train data into train_X,train_y,valid_X,valid_y\n",
    "train_X,valid_X,train_y,valid_y=train_test_split(X,y,train_size=0.7,random_state=1)\n",
    "\n",
    "#printing the shape of train_X,train_y,validation_X,validation_y\n",
    "print(train_X.shape)\n",
    "print(valid_X.shape)\n",
    "print(train_y.shape)\n",
    "print(valid_y.shape)"
   ]
  },
  {
   "cell_type": "code",
   "execution_count": 22,
   "metadata": {},
   "outputs": [],
   "source": [
    "#deleting the Dateofbirth column since we added new column called 'AGE'\n",
    "train_X.drop('Dateofbirth',axis=1,inplace=True)\n",
    "\n",
    "#CONVERTING THE DATATYPES TO FLOAT AND CATEGORIC\n",
    "train_X[cat_cols]=train_X[cat_cols].apply(lambda x:x.astype(\"category\"))\n",
    "train_X[num_cols]=train_X[num_cols].apply(lambda x:x.astype(\"float\"))"
   ]
  },
  {
   "cell_type": "code",
   "execution_count": 23,
   "metadata": {},
   "outputs": [],
   "source": [
    "train_num_data=train_X.loc[:,num_cols]\n",
    "train_cat_data=train_X.loc[:,cat_cols]"
   ]
  },
  {
   "cell_type": "code",
   "execution_count": 24,
   "metadata": {},
   "outputs": [],
   "source": [
    "from sklearn.preprocessing import StandardScaler\n",
    "stand=StandardScaler()\n",
    "stand.fit(train_num_data[train_num_data.columns])\n",
    "train_num_data[train_num_data.columns]=stand.transform(train_num_data[train_num_data.columns])"
   ]
  },
  {
   "cell_type": "code",
   "execution_count": 25,
   "metadata": {},
   "outputs": [],
   "source": [
    "train_X=pd.concat([train_num_data,train_cat_data],axis=1)\n",
    "\n",
    "#creating dummies \n",
    "train_X=pd.get_dummies(train_X,columns=cat_cols)"
   ]
  },
  {
   "cell_type": "code",
   "execution_count": 26,
   "metadata": {},
   "outputs": [],
   "source": [
    "#PREPROCESSING ON VALIDATION DATA\n",
    "#droping dateofbirth column since we calculated age column\n",
    "valid_X.drop('Dateofbirth',axis=1,inplace=True)\n",
    "\n",
    "#CONVERTING THE DATATYPES TO FLOAT AND CATEGORIC\n",
    "valid_X[cat_cols]=valid_X[cat_cols].apply(lambda x:x.astype(\"category\"))\n",
    "valid_X[num_cols]=valid_X[num_cols].apply(lambda x:x.astype(\"float\"))\n",
    "\n",
    "valid_num_data=valid_X.loc[:,num_cols]\n",
    "valid_cat_data=valid_X.loc[:,cat_cols]\n",
    "\n",
    "valid_num_data[valid_num_data.columns]=stand.transform(valid_num_data[valid_num_data.columns])\n",
    "\n",
    "valid_X=pd.concat([valid_num_data,valid_cat_data],axis=1)\n",
    "\n",
    "#creating dummies \n",
    "valid_X=pd.get_dummies(valid_X,columns=cat_cols)"
   ]
  },
  {
   "cell_type": "code",
   "execution_count": 27,
   "metadata": {},
   "outputs": [
    {
     "name": "stdout",
     "output_type": "stream",
     "text": [
      "(2208, 34)\n",
      "(5152, 34)\n"
     ]
    }
   ],
   "source": [
    "#checking the shape of train_X,validation_X\n",
    "print(valid_X.shape)\n",
    "print(train_X.shape)"
   ]
  },
  {
   "cell_type": "code",
   "execution_count": 28,
   "metadata": {},
   "outputs": [
    {
     "data": {
      "text/html": [
       "<div>\n",
       "<style scoped>\n",
       "    .dataframe tbody tr th:only-of-type {\n",
       "        vertical-align: middle;\n",
       "    }\n",
       "\n",
       "    .dataframe tbody tr th {\n",
       "        vertical-align: top;\n",
       "    }\n",
       "\n",
       "    .dataframe thead th {\n",
       "        text-align: right;\n",
       "    }\n",
       "</style>\n",
       "<table border=\"1\" class=\"dataframe\">\n",
       "  <thead>\n",
       "    <tr style=\"text-align: right;\">\n",
       "      <th></th>\n",
       "      <th>CustomerID</th>\n",
       "      <th>CustomerName</th>\n",
       "      <th>yearofBirth</th>\n",
       "      <th>monthofBirth</th>\n",
       "      <th>dayofBirth</th>\n",
       "      <th>yearofEntry</th>\n",
       "      <th>monthofEntry</th>\n",
       "      <th>dayofEntry</th>\n",
       "      <th>Gender</th>\n",
       "      <th>Location</th>\n",
       "      <th>Education</th>\n",
       "      <th>MaritalStatus</th>\n",
       "      <th>Occupation</th>\n",
       "      <th>Ownhouse</th>\n",
       "      <th>CreditScore</th>\n",
       "      <th>AccountBalance</th>\n",
       "      <th>NumberOfProducts</th>\n",
       "      <th>IsCreditCardCustomer</th>\n",
       "      <th>ActiveMember</th>\n",
       "      <th>Salary</th>\n",
       "    </tr>\n",
       "  </thead>\n",
       "  <tbody>\n",
       "    <tr>\n",
       "      <th>0</th>\n",
       "      <td>C5993228</td>\n",
       "      <td>Name_5993228</td>\n",
       "      <td>1972</td>\n",
       "      <td>5</td>\n",
       "      <td>5</td>\n",
       "      <td>2015</td>\n",
       "      <td>12</td>\n",
       "      <td>16</td>\n",
       "      <td>Male</td>\n",
       "      <td>Location13</td>\n",
       "      <td>unknown</td>\n",
       "      <td>single</td>\n",
       "      <td>management</td>\n",
       "      <td>yes</td>\n",
       "      <td>624</td>\n",
       "      <td>0.00</td>\n",
       "      <td>2</td>\n",
       "      <td>1</td>\n",
       "      <td>1</td>\n",
       "      <td>62825.03</td>\n",
       "    </tr>\n",
       "    <tr>\n",
       "      <th>1</th>\n",
       "      <td>C6546925</td>\n",
       "      <td>Name_6546925</td>\n",
       "      <td>1990</td>\n",
       "      <td>12</td>\n",
       "      <td>27</td>\n",
       "      <td>2016</td>\n",
       "      <td>11</td>\n",
       "      <td>26</td>\n",
       "      <td>Female</td>\n",
       "      <td>Location11</td>\n",
       "      <td>primary</td>\n",
       "      <td>married</td>\n",
       "      <td>admin.</td>\n",
       "      <td>yes</td>\n",
       "      <td>777</td>\n",
       "      <td>134571.50</td>\n",
       "      <td>1</td>\n",
       "      <td>0</td>\n",
       "      <td>1</td>\n",
       "      <td>118313.38</td>\n",
       "    </tr>\n",
       "    <tr>\n",
       "      <th>2</th>\n",
       "      <td>C7491750</td>\n",
       "      <td>Name_7491750</td>\n",
       "      <td>1966</td>\n",
       "      <td>7</td>\n",
       "      <td>25</td>\n",
       "      <td>2011</td>\n",
       "      <td>10</td>\n",
       "      <td>24</td>\n",
       "      <td>Female</td>\n",
       "      <td>Location13</td>\n",
       "      <td>primary</td>\n",
       "      <td>married</td>\n",
       "      <td>admin.</td>\n",
       "      <td>yes</td>\n",
       "      <td>707</td>\n",
       "      <td>0.00</td>\n",
       "      <td>1</td>\n",
       "      <td>1</td>\n",
       "      <td>0</td>\n",
       "      <td>109688.82</td>\n",
       "    </tr>\n",
       "    <tr>\n",
       "      <th>3</th>\n",
       "      <td>C8462011</td>\n",
       "      <td>Name_8462011</td>\n",
       "      <td>1983</td>\n",
       "      <td>7</td>\n",
       "      <td>7</td>\n",
       "      <td>2016</td>\n",
       "      <td>7</td>\n",
       "      <td>9</td>\n",
       "      <td>Male</td>\n",
       "      <td>Location11</td>\n",
       "      <td>secondary</td>\n",
       "      <td>divorced</td>\n",
       "      <td>management</td>\n",
       "      <td>no</td>\n",
       "      <td>746</td>\n",
       "      <td>172274.01</td>\n",
       "      <td>1</td>\n",
       "      <td>1</td>\n",
       "      <td>0</td>\n",
       "      <td>22374.97</td>\n",
       "    </tr>\n",
       "    <tr>\n",
       "      <th>4</th>\n",
       "      <td>C3187447</td>\n",
       "      <td>Name_3187447</td>\n",
       "      <td>1983</td>\n",
       "      <td>8</td>\n",
       "      <td>9</td>\n",
       "      <td>2009</td>\n",
       "      <td>5</td>\n",
       "      <td>15</td>\n",
       "      <td>Male</td>\n",
       "      <td>Location11</td>\n",
       "      <td>tertiary</td>\n",
       "      <td>divorced</td>\n",
       "      <td>management</td>\n",
       "      <td>no</td>\n",
       "      <td>762</td>\n",
       "      <td>0.00</td>\n",
       "      <td>2</td>\n",
       "      <td>1</td>\n",
       "      <td>1</td>\n",
       "      <td>43075.70</td>\n",
       "    </tr>\n",
       "  </tbody>\n",
       "</table>\n",
       "</div>"
      ],
      "text/plain": [
       "  CustomerID  CustomerName  yearofBirth  monthofBirth  dayofBirth  \\\n",
       "0   C5993228  Name_5993228         1972             5           5   \n",
       "1   C6546925  Name_6546925         1990            12          27   \n",
       "2   C7491750  Name_7491750         1966             7          25   \n",
       "3   C8462011  Name_8462011         1983             7           7   \n",
       "4   C3187447  Name_3187447         1983             8           9   \n",
       "\n",
       "   yearofEntry  monthofEntry  dayofEntry  Gender    Location  Education  \\\n",
       "0         2015            12          16    Male  Location13    unknown   \n",
       "1         2016            11          26  Female  Location11    primary   \n",
       "2         2011            10          24  Female  Location13    primary   \n",
       "3         2016             7           9    Male  Location11  secondary   \n",
       "4         2009             5          15    Male  Location11   tertiary   \n",
       "\n",
       "  MaritalStatus  Occupation Ownhouse  CreditScore  AccountBalance  \\\n",
       "0        single  management      yes          624            0.00   \n",
       "1       married      admin.      yes          777       134571.50   \n",
       "2       married      admin.      yes          707            0.00   \n",
       "3      divorced  management       no          746       172274.01   \n",
       "4      divorced  management       no          762            0.00   \n",
       "\n",
       "   NumberOfProducts  IsCreditCardCustomer  ActiveMember     Salary  \n",
       "0                 2                     1             1   62825.03  \n",
       "1                 1                     0             1  118313.38  \n",
       "2                 1                     1             0  109688.82  \n",
       "3                 1                     1             0   22374.97  \n",
       "4                 2                     1             1   43075.70  "
      ]
     },
     "execution_count": 28,
     "metadata": {},
     "output_type": "execute_result"
    }
   ],
   "source": [
    "test.head()"
   ]
  },
  {
   "cell_type": "code",
   "execution_count": 29,
   "metadata": {},
   "outputs": [],
   "source": [
    "#keeping the CustomerID in custid variable for submission along with test predictions\n",
    "custid=test.CustomerID\n"
   ]
  },
  {
   "cell_type": "code",
   "execution_count": 30,
   "metadata": {},
   "outputs": [],
   "source": [
    "#preprocessing on test droping unwanted columns\n",
    "test.drop('CustomerID',axis=1,inplace=True)\n",
    "test.drop('CustomerName',axis=1,inplace=True)\n",
    "\n",
    "#creating a new dateofbirth column from year of birth,month of birth,day of birth\n",
    "test['Dateofbirth'] = pd.to_datetime(\n",
    "test[['yearofBirth', 'monthofBirth', 'dayofBirth']].astype(str).agg('-'.join, axis=1))\n",
    "\n",
    "#creating year column from dateofbirth for calculating age \n",
    "test['year']=test['Dateofbirth'].dt.year\n",
    "\n",
    "#creating new \"age\" column subrating from present year and yearofbirth\n",
    "test['age']=2019-test['year']\n",
    "\n",
    "#and droping year column\n",
    "test.drop('year',axis=1,inplace=True)\n",
    "\n",
    "#droping dateofbirth column from test\n",
    "test.drop('Dateofbirth',axis=1,inplace=True)"
   ]
  },
  {
   "cell_type": "code",
   "execution_count": 31,
   "metadata": {},
   "outputs": [],
   "source": [
    "#CONVERTING THE DATATYPES TO FLOAT AND CATEGORIC\n",
    "test[cat_cols]=test[cat_cols].apply(lambda x:x.astype(\"category\"))\n",
    "test[num_cols]=test[num_cols].apply(lambda x:x.astype(\"float\"))\n",
    "\n",
    "test_num_data=test.loc[:,num_cols]\n",
    "test_cat_data=test.loc[:,cat_cols]\n",
    "\n",
    "test_num_data[test_num_data.columns]=stand.transform(test_num_data[test_num_data.columns])\n",
    "\n",
    "test=pd.concat([test_num_data,test_cat_data],axis=1)\n",
    "\n",
    "#creating dummies \n",
    "test=pd.get_dummies(test,columns=cat_cols)"
   ]
  },
  {
   "cell_type": "code",
   "execution_count": 32,
   "metadata": {},
   "outputs": [
    {
     "name": "stdout",
     "output_type": "stream",
     "text": [
      "(5152, 34)\n",
      "(2208, 34)\n",
      "(1840, 34)\n"
     ]
    }
   ],
   "source": [
    "#checking shape for train_X,valdiation_X,test data\n",
    "print(train_X.shape)\n",
    "print(valid_X.shape)\n",
    "print(test.shape)"
   ]
  },
  {
   "cell_type": "code",
   "execution_count": 33,
   "metadata": {},
   "outputs": [
    {
     "data": {
      "text/plain": [
       "LogisticRegression(C=1.0, class_weight=None, dual=False, fit_intercept=True,\n",
       "                   intercept_scaling=1, l1_ratio=None, max_iter=100,\n",
       "                   multi_class='warn', n_jobs=None, penalty='l2',\n",
       "                   random_state=None, solver='warn', tol=0.0001, verbose=0,\n",
       "                   warm_start=False)"
      ]
     },
     "execution_count": 33,
     "metadata": {},
     "output_type": "execute_result"
    }
   ],
   "source": [
    "#MODEL1 LOGISTIC MODEL\n",
    "from sklearn.linear_model import LogisticRegression\n",
    "from sklearn.metrics import classification_report,accuracy_score\n",
    "\n",
    "#fitting the model on train_X,TRAIN_Y\n",
    "log=LogisticRegression()\n",
    "log.fit(train_X,train_y)\n"
   ]
  },
  {
   "cell_type": "code",
   "execution_count": 34,
   "metadata": {},
   "outputs": [],
   "source": [
    "#prediction on train_x,validation_x using logistic model and storing it in variables \n",
    "train_preds1=log.predict(train_X)\n",
    "valid_preds1=log.predict(valid_X)"
   ]
  },
  {
   "cell_type": "code",
   "execution_count": 35,
   "metadata": {},
   "outputs": [
    {
     "name": "stdout",
     "output_type": "stream",
     "text": [
      "accuracy on train data:               precision    recall  f1-score   support\n",
      "\n",
      "          No       0.84      0.97      0.90      4106\n",
      "         Yes       0.67      0.28      0.40      1046\n",
      "\n",
      "    accuracy                           0.83      5152\n",
      "   macro avg       0.76      0.62      0.65      5152\n",
      "weighted avg       0.81      0.83      0.80      5152\n",
      "\n",
      "accuracy on validation data:               precision    recall  f1-score   support\n",
      "\n",
      "          No       0.84      0.96      0.90      1762\n",
      "         Yes       0.64      0.26      0.37       446\n",
      "\n",
      "    accuracy                           0.82      2208\n",
      "   macro avg       0.74      0.61      0.63      2208\n",
      "weighted avg       0.80      0.82      0.79      2208\n",
      "\n"
     ]
    }
   ],
   "source": [
    "#checking model performance using accuaracy and recall\n",
    "print(\"accuracy on train data:\",classification_report(train_y,train_preds1))\n",
    "print(\"accuracy on validation data:\",classification_report(valid_y,valid_preds1))\n",
    "train_score1=accuracy_score(train_y,train_preds1)\n",
    "valid_score1=accuracy_score(valid_y,valid_preds1)"
   ]
  },
  {
   "cell_type": "code",
   "execution_count": 36,
   "metadata": {},
   "outputs": [],
   "source": [
    "#creating a function which will plot learning curves for our model\n",
    "#which will help us get bias and variance\n",
    "from sklearn.model_selection import learning_curve\n",
    "def plot_learning_curve(estimator, title, X, y, ylim=None, cv=None,n_jobs=None, train_sizes=np.linspace(.1, 1.0, 10)):\n",
    "    \n",
    "    plt.figure()\n",
    "    plt.title(title)\n",
    "    if ylim is not None:\n",
    "        plt.ylim(*ylim)#if y limits are given consider the specified limits\n",
    "    plt.xlabel(\"Training examples\")\n",
    "    plt.ylabel(\"Score\")\n",
    "    train_sizes, train_scores, test_scores = learning_curve(\n",
    "        estimator, X, y, cv=cv, n_jobs=n_jobs, train_sizes=train_sizes)\n",
    "    #getting means and std for train and test for particular train_sizes\n",
    "    #with specified cv.\n",
    "    train_scores_mean = np.mean(train_scores, axis=1)\n",
    "    train_scores_std = np.std(train_scores, axis=1)\n",
    "    test_scores_mean = np.mean(test_scores, axis=1)\n",
    "    test_scores_std = np.std(test_scores, axis=1)\n",
    "    plt.grid()\n",
    "    #creating connections between the training score points since we only get points.\n",
    "    plt.fill_between(train_sizes, train_scores_mean - train_scores_std,\n",
    "                     train_scores_mean + train_scores_std, alpha=0.1,\n",
    "                     color=\"r\")\n",
    "    #similarly for cross validation\n",
    "    plt.fill_between(train_sizes, test_scores_mean - test_scores_std,\n",
    "                     test_scores_mean + test_scores_std, alpha=0.1, color=\"g\")\n",
    "    plt.plot(train_sizes, train_scores_mean, 'o-', color=\"r\",\n",
    "             label=\"Training score\")\n",
    "    plt.plot(train_sizes, test_scores_mean, 'o-', color=\"g\",\n",
    "             label=\"Cross-validation score\")\n",
    "\n",
    "    plt.legend(loc=\"best\")\n",
    "    return plt"
   ]
  },
  {
   "cell_type": "code",
   "execution_count": 37,
   "metadata": {},
   "outputs": [
    {
     "data": {
      "text/plain": [
       "<module 'matplotlib.pyplot' from '/opt/conda/lib/python3.6/site-packages/matplotlib/pyplot.py'>"
      ]
     },
     "execution_count": 37,
     "metadata": {},
     "output_type": "execute_result"
    },
    {
     "data": {
      "image/png": "[encoded data removed]",
      "text/plain": [
       "<Figure size 432x288 with 1 Axes>"
      ]
     },
     "metadata": {
      "needs_background": "light"
     },
     "output_type": "display_data"
    }
   ],
   "source": [
    "plot_learning_curve(log,'logistic regression learning curve',train_X,train_y,ylim=None, cv=5,n_jobs=None, train_sizes=np.linspace(.1, 1.0, 10))"
   ]
  },
  {
   "cell_type": "code",
   "execution_count": 38,
   "metadata": {},
   "outputs": [],
   "source": [
    "#MODEL2 DECISION TREE CLASSIFIER AND FITTING ON TRAIN AND VALIDATION\n",
    "from sklearn.tree import DecisionTreeClassifier\n",
    "dtc=DecisionTreeClassifier()\n",
    "dtc.fit(train_X,train_y)\n",
    "\n",
    "#predicting on train_X,valdiation_x and storing in variables\n",
    "train_preds2=dtc.predict(train_X)\n",
    "valid_preds2=dtc.predict(valid_X)"
   ]
  },
  {
   "cell_type": "code",
   "execution_count": 39,
   "metadata": {},
   "outputs": [
    {
     "name": "stdout",
     "output_type": "stream",
     "text": [
      "accuracy on train data:               precision    recall  f1-score   support\n",
      "\n",
      "          No       1.00      1.00      1.00      4106\n",
      "         Yes       1.00      1.00      1.00      1046\n",
      "\n",
      "    accuracy                           1.00      5152\n",
      "   macro avg       1.00      1.00      1.00      5152\n",
      "weighted avg       1.00      1.00      1.00      5152\n",
      "\n",
      "accuracy on validation data:               precision    recall  f1-score   support\n",
      "\n",
      "          No       0.86      0.86      0.86      1762\n",
      "         Yes       0.45      0.47      0.46       446\n",
      "\n",
      "    accuracy                           0.78      2208\n",
      "   macro avg       0.66      0.66      0.66      2208\n",
      "weighted avg       0.78      0.78      0.78      2208\n",
      "\n"
     ]
    }
   ],
   "source": [
    "#checking accuracy and recall on train and validation\n",
    "print(\"accuracy on train data:\",classification_report(train_y,train_preds2))\n",
    "print(\"accuracy on validation data:\",classification_report(valid_y,valid_preds2))\n",
    "train_score2=accuracy_score(train_y,train_preds2)\n",
    "valid_score2=accuracy_score(valid_y,valid_preds2)"
   ]
  },
  {
   "cell_type": "code",
   "execution_count": 40,
   "metadata": {},
   "outputs": [
    {
     "data": {
      "text/plain": [
       "<module 'matplotlib.pyplot' from '/opt/conda/lib/python3.6/site-packages/matplotlib/pyplot.py'>"
      ]
     },
     "execution_count": 40,
     "metadata": {},
     "output_type": "execute_result"
    },
    {
     "data": {
      "image/png": "[encoded data removed]",
      "text/plain": [
       "<Figure size 432x288 with 1 Axes>"
      ]
     },
     "metadata": {
      "needs_background": "light"
     },
     "output_type": "display_data"
    }
   ],
   "source": [
    "plot_learning_curve(dtc,'Decision tree learning curve',train_X,train_y,ylim=None, cv=5,n_jobs=None, train_sizes=np.linspace(.1, 1.0, 10))"
   ]
  },
  {
   "cell_type": "code",
   "execution_count": 41,
   "metadata": {},
   "outputs": [
    {
     "name": "stdout",
     "output_type": "stream",
     "text": [
      "accuracy_score on train data: 0.8651009316770186\n",
      "accuracy_score on validaion data: 0.8147644927536232\n"
     ]
    }
   ],
   "source": [
    "#MODEL3 KNN CLASIFIER\n",
    "from sklearn.neighbors import KNeighborsClassifier\n",
    "knn=KNeighborsClassifier()\n",
    "knn.fit(train_X,train_y)\n",
    "\n",
    "#predicting on train and validation\n",
    "train_preds3=knn.predict(train_X)\n",
    "valid_preds3=knn.predict(valid_X)\n",
    "\n",
    "#checking accuarcy score on train and validation\n",
    "print(\"accuracy_score on train data:\",accuracy_score(train_y,train_preds3))\n",
    "print(\"accuracy_score on validaion data:\",accuracy_score(valid_y,valid_preds3))\n",
    "\n",
    "train_score3=accuracy_score(train_y,train_preds3)\n",
    "valid_score3=accuracy_score(valid_y,valid_preds3)"
   ]
  },
  {
   "cell_type": "code",
   "execution_count": 42,
   "metadata": {},
   "outputs": [
    {
     "data": {
      "text/plain": [
       "<module 'matplotlib.pyplot' from '/opt/conda/lib/python3.6/site-packages/matplotlib/pyplot.py'>"
      ]
     },
     "execution_count": 42,
     "metadata": {},
     "output_type": "execute_result"
    },
    {
     "data": {
      "image/png": "[encoded data removed]",
      "text/plain": [
       "<Figure size 432x288 with 1 Axes>"
      ]
     },
     "metadata": {
      "needs_background": "light"
     },
     "output_type": "display_data"
    }
   ],
   "source": [
    "plot_learning_curve(knn,'KNN learning curve',train_X,train_y,ylim=None, cv=5,n_jobs=None, train_sizes=np.linspace(.1, 1.0, 10))"
   ]
  },
  {
   "cell_type": "code",
   "execution_count": 43,
   "metadata": {},
   "outputs": [],
   "source": [
    "#MODEL 4\n",
    "from sklearn.svm import SVC\n",
    "from sklearn.model_selection import GridSearchCV\n",
    "svc=SVC()\n",
    "\n",
    " \n",
    "param_grid = {\n",
    "\n",
    "'C': [0.001, 0.01, 0.1, 1, 10],\n",
    "'gamma': [0.001, 0.01, 0.1, 1], \n",
    "'kernel':['linear','rbf']}\n",
    "\n",
    " \n",
    "svc_cv = GridSearchCV(estimator = svc, param_grid = param_grid, cv = 10,n_jobs=-1)"
   ]
  },
  {
   "cell_type": "code",
   "execution_count": 44,
   "metadata": {},
   "outputs": [
    {
     "data": {
      "text/plain": [
       "GridSearchCV(cv=10, error_score='raise-deprecating',\n",
       "             estimator=SVC(C=1.0, cache_size=200, class_weight=None, coef0=0.0,\n",
       "                           decision_function_shape='ovr', degree=3,\n",
       "                           gamma='auto_deprecated', kernel='rbf', max_iter=-1,\n",
       "                           probability=False, random_state=None, shrinking=True,\n",
       "                           tol=0.001, verbose=False),\n",
       "             iid='warn', n_jobs=-1,\n",
       "             param_grid={'C': [0.001, 0.01, 0.1, 1, 10],\n",
       "                         'gamma': [0.001, 0.01, 0.1, 1],\n",
       "                         'kernel': ['linear', 'rbf']},\n",
       "             pre_dispatch='2*n_jobs', refit=True, return_train_score=False,\n",
       "             scoring=None, verbose=0)"
      ]
     },
     "execution_count": 44,
     "metadata": {},
     "output_type": "execute_result"
    }
   ],
   "source": [
    "svc_cv.fit(train_X,train_y)"
   ]
  },
  {
   "cell_type": "code",
   "execution_count": 45,
   "metadata": {},
   "outputs": [
    {
     "data": {
      "text/plain": [
       "SVC(C=10, cache_size=200, class_weight=None, coef0=0.0,\n",
       "    decision_function_shape='ovr', degree=3, gamma=0.01, kernel='rbf',\n",
       "    max_iter=-1, probability=False, random_state=None, shrinking=True,\n",
       "    tol=0.001, verbose=False)"
      ]
     },
     "execution_count": 45,
     "metadata": {},
     "output_type": "execute_result"
    }
   ],
   "source": [
    "svc_cv.best_estimator_.fit(train_X,train_y)"
   ]
  },
  {
   "cell_type": "code",
   "execution_count": 46,
   "metadata": {},
   "outputs": [],
   "source": [
    "#predicting on train and validation\n",
    "train_preds4=svc_cv.best_estimator_.predict(train_X)\n",
    "valid_preds4=svc_cv.best_estimator_.predict(valid_X)"
   ]
  },
  {
   "cell_type": "code",
   "execution_count": 47,
   "metadata": {},
   "outputs": [
    {
     "name": "stdout",
     "output_type": "stream",
     "text": [
      "accuracy_score on train data: 0.8621894409937888\n",
      "accuracy_score on validaion data: 0.8473731884057971\n"
     ]
    }
   ],
   "source": [
    "#checking accuarcy score on train and validation\n",
    "print(\"accuracy_score on train data:\",accuracy_score(train_y,train_preds4))\n",
    "print(\"accuracy_score on validaion data:\",accuracy_score(valid_y,valid_preds4))\n",
    "\n",
    "train_score4=accuracy_score(train_y,train_preds4)\n",
    "valid_score4=accuracy_score(valid_y,valid_preds4)"
   ]
  },
  {
   "cell_type": "code",
   "execution_count": 48,
   "metadata": {},
   "outputs": [
    {
     "data": {
      "text/plain": [
       "<module 'matplotlib.pyplot' from '/opt/conda/lib/python3.6/site-packages/matplotlib/pyplot.py'>"
      ]
     },
     "execution_count": 48,
     "metadata": {},
     "output_type": "execute_result"
    },
    {
     "data": {
      "image/png": "[encoded data removed]",
      "text/plain": [
       "<Figure size 432x288 with 1 Axes>"
      ]
     },
     "metadata": {
      "needs_background": "light"
     },
     "output_type": "display_data"
    }
   ],
   "source": [
    "plot_learning_curve(svc_cv.best_estimator_,'SVC learning curve',train_X,train_y,ylim=None, cv=5,n_jobs=None, train_sizes=np.linspace(.1, 1.0, 10))"
   ]
  },
  {
   "cell_type": "code",
   "execution_count": 49,
   "metadata": {},
   "outputs": [
    {
     "data": {
      "text/plain": [
       "GridSearchCV(cv=5, error_score='raise-deprecating',\n",
       "             estimator=RandomForestClassifier(bootstrap=True, class_weight=None,\n",
       "                                              criterion='gini', max_depth=None,\n",
       "                                              max_features='auto',\n",
       "                                              max_leaf_nodes=None,\n",
       "                                              min_impurity_decrease=0.0,\n",
       "                                              min_impurity_split=None,\n",
       "                                              min_samples_leaf=1,\n",
       "                                              min_samples_split=2,\n",
       "                                              min_weight_fraction_leaf=0.0,\n",
       "                                              n_estimators='warn', n_jobs=None,\n",
       "                                              oob_score=False,\n",
       "                                              random_state=None, verbose=0,\n",
       "                                              warm_start=False),\n",
       "             iid='warn', n_jobs=-1,\n",
       "             param_grid={'max_depth': [4, 6, 8, 10],\n",
       "                         'max_features': [0.02, 0.04, 0.06, 0.08],\n",
       "                         'min_samples_leaf': [0.06, 0.08, 0.1]},\n",
       "             pre_dispatch='2*n_jobs', refit=True, return_train_score=False,\n",
       "             scoring=None, verbose=0)"
      ]
     },
     "execution_count": 49,
     "metadata": {},
     "output_type": "execute_result"
    }
   ],
   "source": [
    "#MODEL 5\n",
    "from sklearn.ensemble import RandomForestClassifier\n",
    "rfc=RandomForestClassifier()\n",
    "\n",
    "max_depth=[4,6,8,10]\n",
    "min_samples_leaf=[0.06,0.08,0.10]\n",
    "max_features=[0.02,0.04,0.06,0.08]\n",
    "\n",
    "params={\n",
    "    \"max_depth\":max_depth,\n",
    "    \"min_samples_leaf\": min_samples_leaf,\n",
    "    \"max_features\": max_features,\n",
    "}\n",
    "\n",
    "grid=GridSearchCV(estimator=rfc,param_grid=params,cv=5,n_jobs=-1)\n",
    "grid.fit(train_X,train_y)"
   ]
  },
  {
   "cell_type": "code",
   "execution_count": 50,
   "metadata": {},
   "outputs": [
    {
     "data": {
      "text/plain": [
       "RandomForestClassifier(bootstrap=True, class_weight=None, criterion='gini',\n",
       "                       max_depth=4, max_features=0.02, max_leaf_nodes=None,\n",
       "                       min_impurity_decrease=0.0, min_impurity_split=None,\n",
       "                       min_samples_leaf=0.06, min_samples_split=2,\n",
       "                       min_weight_fraction_leaf=0.0, n_estimators=10,\n",
       "                       n_jobs=None, oob_score=False, random_state=None,\n",
       "                       verbose=0, warm_start=False)"
      ]
     },
     "execution_count": 50,
     "metadata": {},
     "output_type": "execute_result"
    }
   ],
   "source": [
    "grid.best_estimator_"
   ]
  },
  {
   "cell_type": "code",
   "execution_count": 51,
   "metadata": {},
   "outputs": [],
   "source": [
    "#getting best estimator from grid search and fitting on train_x,train_y\n",
    "grid.best_estimator_.fit(train_X,train_y)\n",
    "\n",
    "#prediction on train and validation \n",
    "train_preds5=grid.predict(train_X)\n",
    "valid_preds5=grid.predict(valid_X)\n"
   ]
  },
  {
   "cell_type": "code",
   "execution_count": 52,
   "metadata": {},
   "outputs": [
    {
     "name": "stdout",
     "output_type": "stream",
     "text": [
      "accuracy_score on train data: 0.796972049689441\n",
      "accuracy_score on validaion data: 0.7980072463768116\n"
     ]
    }
   ],
   "source": [
    "#checking the model performance using accuracy score on train and validation\n",
    "print(\"accuracy_score on train data:\",accuracy_score(train_y,train_preds5))\n",
    "print(\"accuracy_score on validaion data:\",accuracy_score(valid_y,valid_preds5))\n",
    "\n",
    "train_score5=accuracy_score(train_y,train_preds5)\n",
    "valid_score5=accuracy_score(valid_y,valid_preds5)"
   ]
  },
  {
   "cell_type": "code",
   "execution_count": 53,
   "metadata": {},
   "outputs": [
    {
     "data": {
      "text/plain": [
       "<module 'matplotlib.pyplot' from '/opt/conda/lib/python3.6/site-packages/matplotlib/pyplot.py'>"
      ]
     },
     "execution_count": 53,
     "metadata": {},
     "output_type": "execute_result"
    },
    {
     "data": {
      "image/png": "[encoded data removed]",
      "text/plain": [
       "<Figure size 432x288 with 1 Axes>"
      ]
     },
     "metadata": {
      "needs_background": "light"
     },
     "output_type": "display_data"
    }
   ],
   "source": [
    "plot_learning_curve(grid.best_estimator_,'RandomForest learning curve',train_X,train_y,ylim=None, cv=5,n_jobs=None, train_sizes=np.linspace(.1, 1.0, 10))"
   ]
  },
  {
   "cell_type": "code",
   "execution_count": 54,
   "metadata": {},
   "outputs": [
    {
     "data": {
      "text/plain": [
       "RandomizedSearchCV(cv=5, error_score='raise-deprecating',\n",
       "                   estimator=XGBClassifier(base_score=0.5, booster='gbtree',\n",
       "                                           colsample_bylevel=1,\n",
       "                                           colsample_bynode=1,\n",
       "                                           colsample_bytree=1, gamma=0,\n",
       "                                           learning_rate=0.1, max_delta_step=0,\n",
       "                                           max_depth=3, min_child_weight=1,\n",
       "                                           missing=None, n_estimators=100,\n",
       "                                           n_jobs=1, nthread=None,\n",
       "                                           objective='binary:logistic',\n",
       "                                           random_state=0, reg_alpha=0,\n",
       "                                           reg_lambda=1, scale_pos_weight=1,\n",
       "                                           seed=None, silent=None, subsample=1,\n",
       "                                           verbosity=1),\n",
       "                   iid='warn', n_iter=10, n_jobs=-1,\n",
       "                   param_distributions={'learnin_rate': [0.05, 0.1, 0.15, 0.2],\n",
       "                                        'max_depth': [2, 3, 5, 7],\n",
       "                                        'min_child_wgt': [1, 2, 3, 4],\n",
       "                                        'n_estimaters': [50, 100, 150, 200]},\n",
       "                   pre_dispatch='2*n_jobs', random_state=None, refit=True,\n",
       "                   return_train_score=False, scoring=None, verbose=0)"
      ]
     },
     "execution_count": 54,
     "metadata": {},
     "output_type": "execute_result"
    }
   ],
   "source": [
    "#MODEL 6\n",
    "#importing Randomsearchcv and creating hyperparameters for XGboost \n",
    "from sklearn.model_selection import RandomizedSearchCV\n",
    "from xgboost import XGBClassifier\n",
    "xgb2=XGBClassifier()\n",
    "n_estimaters=[50,100,150,200]\n",
    "max_depth=[2,3,5,7]\n",
    "learnin_rate=[0.05,0.1,0.15,0.20]\n",
    "min_child_wgt=[1,2,3,4]\n",
    "\n",
    "\n",
    "\n",
    "hyperparameter={\n",
    "    \"n_estimaters\":n_estimaters,\n",
    "    \"max_depth\":max_depth,\n",
    "    \"learnin_rate\":learnin_rate,\n",
    "    \"min_child_wgt\":min_child_wgt,\n",
    "\n",
    "}\n",
    "\n",
    "# using RandomizedSearchCV for 5 fold cross validation XGboost as estimator\n",
    "random_cv2=RandomizedSearchCV(estimator=xgb2,param_distributions=hyperparameter,cv=5,n_jobs=-1)\n",
    "\n",
    "#fitting on trainx,trainy\n",
    "random_cv2.fit(train_X,train_y)"
   ]
  },
  {
   "cell_type": "code",
   "execution_count": 55,
   "metadata": {},
   "outputs": [],
   "source": [
    "random_cv2.best_estimator_.fit(train_X,train_y)\n",
    "\n",
    "#and predicting on trainx and validationx using best estimator\n",
    "train_preds6=random_cv2.best_estimator_.predict(train_X)\n",
    "valid_preds6=random_cv2.best_estimator_.predict(valid_X)"
   ]
  },
  {
   "cell_type": "code",
   "execution_count": 56,
   "metadata": {},
   "outputs": [
    {
     "name": "stdout",
     "output_type": "stream",
     "text": [
      "accuracy_score on train data: 0.876358695652174\n",
      "accuracy_score on validaion data: 0.8564311594202898\n"
     ]
    }
   ],
   "source": [
    "#checking the model performance using accuracy score on train and validation\n",
    "print(\"accuracy_score on train data:\",accuracy_score(train_y,train_preds6))\n",
    "print(\"accuracy_score on validaion data:\",accuracy_score(valid_y,valid_preds6))\n",
    "\n",
    "train_score6=accuracy_score(train_y,train_preds6)\n",
    "valid_score6=accuracy_score(valid_y,valid_preds6)"
   ]
  },
  {
   "cell_type": "code",
   "execution_count": 57,
   "metadata": {},
   "outputs": [
    {
     "data": {
      "text/plain": [
       "<module 'matplotlib.pyplot' from '/opt/conda/lib/python3.6/site-packages/matplotlib/pyplot.py'>"
      ]
     },
     "execution_count": 57,
     "metadata": {},
     "output_type": "execute_result"
    },
    {
     "data": {
      "image/png": "[encoded data removed]",
      "text/plain": [
       "<Figure size 432x288 with 1 Axes>"
      ]
     },
     "metadata": {
      "needs_background": "light"
     },
     "output_type": "display_data"
    }
   ],
   "source": [
    "plot_learning_curve(random_cv2.best_estimator_,'XGboost learning curve',train_X,train_y,ylim=None, cv=5,n_jobs=None, train_sizes=np.linspace(.1, 1.0, 10))"
   ]
  },
  {
   "cell_type": "code",
   "execution_count": 58,
   "metadata": {},
   "outputs": [],
   "source": [
    "results=pd.DataFrame({\n",
    "    \"Model\":[\"Logistic_Regression\",\"Decision_tree\",\"KNN\",\"SVC\",\"RandomForest\",\"XgBOOST\"],\n",
    "    \"train_score\":[train_score1,train_score2,train_score3,train_score4,train_score5,train_score6],\n",
    "    \"validation_score\":[valid_score1,valid_score2,valid_score3,valid_score4,valid_score5,valid_score6]\n",
    "})"
   ]
  },
  {
   "cell_type": "code",
   "execution_count": 59,
   "metadata": {},
   "outputs": [
    {
     "data": {
      "text/html": [
       "<div>\n",
       "<style scoped>\n",
       "    .dataframe tbody tr th:only-of-type {\n",
       "        vertical-align: middle;\n",
       "    }\n",
       "\n",
       "    .dataframe tbody tr th {\n",
       "        vertical-align: top;\n",
       "    }\n",
       "\n",
       "    .dataframe thead th {\n",
       "        text-align: right;\n",
       "    }\n",
       "</style>\n",
       "<table border=\"1\" class=\"dataframe\">\n",
       "  <thead>\n",
       "    <tr style=\"text-align: right;\">\n",
       "      <th></th>\n",
       "      <th>Model</th>\n",
       "      <th>train_score</th>\n",
       "      <th>validation_score</th>\n",
       "    </tr>\n",
       "  </thead>\n",
       "  <tbody>\n",
       "    <tr>\n",
       "      <th>0</th>\n",
       "      <td>Logistic_Regression</td>\n",
       "      <td>0.826087</td>\n",
       "      <td>0.820652</td>\n",
       "    </tr>\n",
       "    <tr>\n",
       "      <th>1</th>\n",
       "      <td>Decision_tree</td>\n",
       "      <td>1.000000</td>\n",
       "      <td>0.777627</td>\n",
       "    </tr>\n",
       "    <tr>\n",
       "      <th>2</th>\n",
       "      <td>KNN</td>\n",
       "      <td>0.865101</td>\n",
       "      <td>0.814764</td>\n",
       "    </tr>\n",
       "    <tr>\n",
       "      <th>3</th>\n",
       "      <td>SVC</td>\n",
       "      <td>0.862189</td>\n",
       "      <td>0.847373</td>\n",
       "    </tr>\n",
       "    <tr>\n",
       "      <th>4</th>\n",
       "      <td>RandomForest</td>\n",
       "      <td>0.796972</td>\n",
       "      <td>0.798007</td>\n",
       "    </tr>\n",
       "    <tr>\n",
       "      <th>5</th>\n",
       "      <td>XgBOOST</td>\n",
       "      <td>0.876359</td>\n",
       "      <td>0.856431</td>\n",
       "    </tr>\n",
       "  </tbody>\n",
       "</table>\n",
       "</div>"
      ],
      "text/plain": [
       "                 Model  train_score  validation_score\n",
       "0  Logistic_Regression     0.826087          0.820652\n",
       "1        Decision_tree     1.000000          0.777627\n",
       "2                  KNN     0.865101          0.814764\n",
       "3                  SVC     0.862189          0.847373\n",
       "4         RandomForest     0.796972          0.798007\n",
       "5              XgBOOST     0.876359          0.856431"
      ]
     },
     "execution_count": 59,
     "metadata": {},
     "output_type": "execute_result"
    }
   ],
   "source": [
    "results"
   ]
  },
  {
   "cell_type": "code",
   "execution_count": 60,
   "metadata": {},
   "outputs": [],
   "source": [
    "test_predictions=random_cv2.best_estimator_.predict(test)"
   ]
  },
  {
   "cell_type": "code",
   "execution_count": 61,
   "metadata": {},
   "outputs": [],
   "source": [
    "test_predictions=pd.DataFrame(test_predictions,custid.values)"
   ]
  },
  {
   "cell_type": "code",
   "execution_count": 62,
   "metadata": {},
   "outputs": [
    {
     "data": {
      "text/html": [
       "<div>\n",
       "<style scoped>\n",
       "    .dataframe tbody tr th:only-of-type {\n",
       "        vertical-align: middle;\n",
       "    }\n",
       "\n",
       "    .dataframe tbody tr th {\n",
       "        vertical-align: top;\n",
       "    }\n",
       "\n",
       "    .dataframe thead th {\n",
       "        text-align: right;\n",
       "    }\n",
       "</style>\n",
       "<table border=\"1\" class=\"dataframe\">\n",
       "  <thead>\n",
       "    <tr style=\"text-align: right;\">\n",
       "      <th></th>\n",
       "      <th>0</th>\n",
       "    </tr>\n",
       "  </thead>\n",
       "  <tbody>\n",
       "    <tr>\n",
       "      <th>C5993228</th>\n",
       "      <td>No</td>\n",
       "    </tr>\n",
       "    <tr>\n",
       "      <th>C6546925</th>\n",
       "      <td>No</td>\n",
       "    </tr>\n",
       "    <tr>\n",
       "      <th>C7491750</th>\n",
       "      <td>Yes</td>\n",
       "    </tr>\n",
       "    <tr>\n",
       "      <th>C8462011</th>\n",
       "      <td>No</td>\n",
       "    </tr>\n",
       "    <tr>\n",
       "      <th>C3187447</th>\n",
       "      <td>No</td>\n",
       "    </tr>\n",
       "    <tr>\n",
       "      <th>...</th>\n",
       "      <td>...</td>\n",
       "    </tr>\n",
       "    <tr>\n",
       "      <th>C5458876</th>\n",
       "      <td>No</td>\n",
       "    </tr>\n",
       "    <tr>\n",
       "      <th>C4306823</th>\n",
       "      <td>No</td>\n",
       "    </tr>\n",
       "    <tr>\n",
       "      <th>C2409933</th>\n",
       "      <td>No</td>\n",
       "    </tr>\n",
       "    <tr>\n",
       "      <th>C5212350</th>\n",
       "      <td>No</td>\n",
       "    </tr>\n",
       "    <tr>\n",
       "      <th>C4383485</th>\n",
       "      <td>Yes</td>\n",
       "    </tr>\n",
       "  </tbody>\n",
       "</table>\n",
       "<p>1840 rows × 1 columns</p>\n",
       "</div>"
      ],
      "text/plain": [
       "            0\n",
       "C5993228   No\n",
       "C6546925   No\n",
       "C7491750  Yes\n",
       "C8462011   No\n",
       "C3187447   No\n",
       "...       ...\n",
       "C5458876   No\n",
       "C4306823   No\n",
       "C2409933   No\n",
       "C5212350   No\n",
       "C4383485  Yes\n",
       "\n",
       "[1840 rows x 1 columns]"
      ]
     },
     "execution_count": 62,
     "metadata": {},
     "output_type": "execute_result"
    }
   ],
   "source": [
    "test_predictions"
   ]
  }
 ],
 "metadata": {
  "kernelspec": {
   "display_name": "Python 3",
   "language": "python",
   "name": "python3"
  },
  "language_info": {
   "codemirror_mode": {
    "name": "ipython",
    "version": 3
   },
   "file_extension": ".py",
   "mimetype": "text/x-python",
   "name": "python",
   "nbconvert_exporter": "python",
   "pygments_lexer": "ipython3",
   "version": "3.6.6"
  }
 },
 "nbformat": 4,
 "nbformat_minor": 1
}
